{
 "cells": [
  {
   "cell_type": "markdown",
   "metadata": {},
   "source": [
    "## Http using Python vs Browser"
   ]
  },
  {
   "cell_type": "code",
   "execution_count": null,
   "metadata": {},
   "outputs": [],
   "source": [
    "import requests\n",
    "r = requests.get('https://github.com/splicemachine/pysplice/blob/master/README.md')\n",
    "print(r.status_code)\n",
    "print(r.text)"
   ]
  },
  {
   "cell_type": "code",
   "execution_count": null,
   "metadata": {},
   "outputs": [],
   "source": [
    "from bs4 import BeautifulSoup\n",
    "soup = BeautifulSoup(r.text, 'html.parser')\n",
    "\n",
    "print(soup.find_all('code'))"
   ]
  },
  {
   "cell_type": "markdown",
   "metadata": {},
   "source": [
    "## Jupyter defaults to port 8888, but can be changed\n",
    "### You can't access an IP unless it's port is made available\n",
    "\n",
    "<code>jupyter notebook </code> <-- 8888<br>\n",
    "<code>jupyter notebook --port=8889</code> <-- 8889"
   ]
  },
  {
   "cell_type": "markdown",
   "metadata": {},
   "source": [
    "## SSH and SCP"
   ]
  },
  {
   "cell_type": "code",
   "execution_count": null,
   "metadata": {},
   "outputs": [],
   "source": [
    "!pip install -q scp\n",
    "!pip install -q paramiko"
   ]
  },
  {
   "cell_type": "code",
   "execution_count": null,
   "metadata": {},
   "outputs": [],
   "source": [
    "%%writefile test.txt\n",
    "\n",
    "my test file2"
   ]
  },
  {
   "cell_type": "markdown",
   "metadata": {},
   "source": [
    "## Python equivalent of \n",
    "<code>scp -i $ex_pem test.txt $ex_host:/home/ubuntu/test.txt</code>\n",
    "\n",
    "### Where\n",
    "* ex_pem is your PEM file\n",
    "* ex_host is your host IP address\n",
    "\n",
    "[src](https://gist.github.com/batok/2352501)"
   ]
  },
  {
   "cell_type": "code",
   "execution_count": null,
   "metadata": {},
   "outputs": [],
   "source": [
    "from paramiko import SSHClient, RSAKey, AutoAddPolicy\n",
    "from scp import SCPClient\n",
    "\n",
    "# SSH Client\n",
    "ssh = SSHClient()\n",
    "\n",
    "# EC2 Host and Private Key\n",
    "k = RSAKey.from_private_key_file(open('pem_loc.txt').read().strip())\n",
    "host = open('ec2_host.txt').read().strip()\n",
    "\n",
    "# Add new host if unknown\n",
    "ssh.set_missing_host_key_policy(AutoAddPolicy())\n",
    "\n",
    "ssh.connect(host,username='ubuntu',pkey=k)\n",
    "\n",
    "# SCPCLient takes a paramiko transport as an argument\n",
    "scp = SCPClient(ssh.get_transport())\n",
    "\n",
    "# Uploading the 'test' directory with its content in the\n",
    "# home (~) remote directory\n",
    "scp.put('test.txt', recursive=True, remote_path='~')\n",
    "\n",
    "scp.close()"
   ]
  },
  {
   "cell_type": "markdown",
   "metadata": {},
   "source": [
    "## Boto3 and AWS S3\n",
    "\n",
    "[src](https://boto3.amazonaws.com/v1/documentation/api/latest/guide/s3-examples.html)"
   ]
  },
  {
   "cell_type": "code",
   "execution_count": null,
   "metadata": {},
   "outputs": [],
   "source": [
    "!pip install -q boto3"
   ]
  },
  {
   "cell_type": "code",
   "execution_count": null,
   "metadata": {},
   "outputs": [],
   "source": [
    "import boto3\n",
    "\n",
    "s3 = boto3.client('s3')\n",
    "s3.download_file('splice-demo', 'customers-4000.csv', 'customers.csv')\n"
   ]
  },
  {
   "cell_type": "markdown",
   "metadata": {},
   "source": [
    "## Read directly with Pandas (assuming it's public)\n",
    "\n",
    "### For private files you'll need to provide credentials"
   ]
  },
  {
   "cell_type": "code",
   "execution_count": null,
   "metadata": {},
   "outputs": [],
   "source": [
    "!pip install -q s3fs"
   ]
  },
  {
   "cell_type": "code",
   "execution_count": null,
   "metadata": {},
   "outputs": [],
   "source": [
    "import pandas as pd\n",
    "df = pd.read_csv('s3://splice-demo/customers-4000.csv', header=None, names=['ID', 'First', 'Last', \"Full\"])\n",
    "df"
   ]
  },
  {
   "cell_type": "code",
   "execution_count": null,
   "metadata": {},
   "outputs": [],
   "source": [
    "df2 = df[df['ID'] <= 100]\n",
    "df2.to_csv('small_customers.csv')"
   ]
  },
  {
   "cell_type": "code",
   "execution_count": null,
   "metadata": {},
   "outputs": [],
   "source": [
    "s3.upload_file('small_customers.csv', 'splice-demo', 'small_customers.csv')"
   ]
  },
  {
   "cell_type": "code",
   "execution_count": null,
   "metadata": {},
   "outputs": [],
   "source": []
  }
 ],
 "metadata": {
  "kernelspec": {
   "display_name": "Python 3",
   "language": "python",
   "name": "python3"
  },
  "language_info": {
   "codemirror_mode": {
    "name": "ipython",
    "version": 3
   },
   "file_extension": ".py",
   "mimetype": "text/x-python",
   "name": "python",
   "nbconvert_exporter": "python",
   "pygments_lexer": "ipython3",
   "version": "3.8.5"
  }
 },
 "nbformat": 4,
 "nbformat_minor": 4
}
